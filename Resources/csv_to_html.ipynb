{
 "cells": [
  {
   "cell_type": "code",
   "execution_count": 1,
   "id": "15ede3f0",
   "metadata": {},
   "outputs": [],
   "source": [
    "import pandas as pd\n"
   ]
  },
  {
   "cell_type": "code",
   "execution_count": 2,
   "id": "36007fce",
   "metadata": {},
   "outputs": [
    {
     "data": {
      "text/html": [
       "<div>\n",
       "<style scoped>\n",
       "    .dataframe tbody tr th:only-of-type {\n",
       "        vertical-align: middle;\n",
       "    }\n",
       "\n",
       "    .dataframe tbody tr th {\n",
       "        vertical-align: top;\n",
       "    }\n",
       "\n",
       "    .dataframe thead th {\n",
       "        text-align: right;\n",
       "    }\n",
       "</style>\n",
       "<table border=\"1\" class=\"dataframe\">\n",
       "  <thead>\n",
       "    <tr style=\"text-align: right;\">\n",
       "      <th></th>\n",
       "      <th>City</th>\n",
       "      <th>Lat</th>\n",
       "      <th>Lng</th>\n",
       "      <th>Max Temp</th>\n",
       "      <th>Humidity</th>\n",
       "      <th>Cloudiness</th>\n",
       "      <th>Wind Speed</th>\n",
       "      <th>Country</th>\n",
       "      <th>Date</th>\n",
       "    </tr>\n",
       "  </thead>\n",
       "  <tbody>\n",
       "    <tr>\n",
       "      <th>0</th>\n",
       "      <td>jamestown</td>\n",
       "      <td>42.0970</td>\n",
       "      <td>-79.2353</td>\n",
       "      <td>63.99</td>\n",
       "      <td>76</td>\n",
       "      <td>10</td>\n",
       "      <td>1.99</td>\n",
       "      <td>US</td>\n",
       "      <td>1666651518</td>\n",
       "    </tr>\n",
       "    <tr>\n",
       "      <th>1</th>\n",
       "      <td>saint-philippe</td>\n",
       "      <td>-21.3585</td>\n",
       "      <td>55.7679</td>\n",
       "      <td>69.39</td>\n",
       "      <td>82</td>\n",
       "      <td>36</td>\n",
       "      <td>6.55</td>\n",
       "      <td>RE</td>\n",
       "      <td>1666651657</td>\n",
       "    </tr>\n",
       "    <tr>\n",
       "      <th>2</th>\n",
       "      <td>te anau</td>\n",
       "      <td>-45.4167</td>\n",
       "      <td>167.7167</td>\n",
       "      <td>50.59</td>\n",
       "      <td>51</td>\n",
       "      <td>11</td>\n",
       "      <td>2.37</td>\n",
       "      <td>NZ</td>\n",
       "      <td>1666651635</td>\n",
       "    </tr>\n",
       "    <tr>\n",
       "      <th>3</th>\n",
       "      <td>sao joao da barra</td>\n",
       "      <td>-21.6403</td>\n",
       "      <td>-41.0511</td>\n",
       "      <td>75.29</td>\n",
       "      <td>87</td>\n",
       "      <td>56</td>\n",
       "      <td>6.89</td>\n",
       "      <td>BR</td>\n",
       "      <td>1666651658</td>\n",
       "    </tr>\n",
       "    <tr>\n",
       "      <th>4</th>\n",
       "      <td>ilulissat</td>\n",
       "      <td>69.2167</td>\n",
       "      <td>-51.1000</td>\n",
       "      <td>25.84</td>\n",
       "      <td>87</td>\n",
       "      <td>100</td>\n",
       "      <td>4.83</td>\n",
       "      <td>GL</td>\n",
       "      <td>1666651658</td>\n",
       "    </tr>\n",
       "  </tbody>\n",
       "</table>\n",
       "</div>"
      ],
      "text/plain": [
       "                City      Lat       Lng  Max Temp  Humidity  Cloudiness  \\\n",
       "0          jamestown  42.0970  -79.2353     63.99        76          10   \n",
       "1     saint-philippe -21.3585   55.7679     69.39        82          36   \n",
       "2            te anau -45.4167  167.7167     50.59        51          11   \n",
       "3  sao joao da barra -21.6403  -41.0511     75.29        87          56   \n",
       "4          ilulissat  69.2167  -51.1000     25.84        87         100   \n",
       "\n",
       "   Wind Speed Country        Date  \n",
       "0        1.99      US  1666651518  \n",
       "1        6.55      RE  1666651657  \n",
       "2        2.37      NZ  1666651635  \n",
       "3        6.89      BR  1666651658  \n",
       "4        4.83      GL  1666651658  "
      ]
     },
     "execution_count": 2,
     "metadata": {},
     "output_type": "execute_result"
    }
   ],
   "source": [
    "cities = pd.read_csv(\"cities.csv\")\n",
    "cities.head()"
   ]
  },
  {
   "cell_type": "code",
   "execution_count": 3,
   "id": "f1e338d0",
   "metadata": {},
   "outputs": [],
   "source": [
    "cities.to_html(\"../visualizations/cities.html\")"
   ]
  },
  {
   "cell_type": "code",
   "execution_count": null,
   "id": "1ff3420e",
   "metadata": {},
   "outputs": [],
   "source": []
  }
 ],
 "metadata": {
  "kernelspec": {
   "display_name": "Python 3 (ipykernel)",
   "language": "python",
   "name": "python3"
  },
  "language_info": {
   "codemirror_mode": {
    "name": "ipython",
    "version": 3
   },
   "file_extension": ".py",
   "mimetype": "text/x-python",
   "name": "python",
   "nbconvert_exporter": "python",
   "pygments_lexer": "ipython3",
   "version": "3.10.6"
  },
  "vscode": {
   "interpreter": {
    "hash": "b0fa6594d8f4cbf19f97940f81e996739fb7646882a419484c72d19e05852a7e"
   }
  }
 },
 "nbformat": 4,
 "nbformat_minor": 5
}
